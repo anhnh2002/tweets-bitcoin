{
 "cells": [
  {
   "cell_type": "markdown",
   "metadata": {},
   "source": [
    "# Preprocess"
   ]
  },
  {
   "cell_type": "code",
   "execution_count": 1,
   "metadata": {},
   "outputs": [],
   "source": [
    "import pandas as pd\n",
    "import numpy as np\n",
    "from datetime import datetime"
   ]
  },
  {
   "cell_type": "code",
   "execution_count": 2,
   "metadata": {},
   "outputs": [],
   "source": [
    "ohlc = pd.read_csv('ohlc.csv', index_col='timestamp', parse_dates=True)\n",
    "tweets = pd.read_csv('tweets_per_day.csv', index_col='date', parse_dates=True)\n",
    "ohlc = ohlc[ohlc.index <= datetime.strptime('2018/08/31', '%Y/%m/%d')]\n",
    "tweets = tweets[tweets.index <= datetime.strptime('2018/08/31', '%Y/%m/%d')]"
   ]
  },
  {
   "cell_type": "code",
   "execution_count": 3,
   "metadata": {},
   "outputs": [],
   "source": [
    "def log_return(close: pd.Series):\n",
    "    prev_close = close.shift(1)\n",
    "    return np.log(close) - np.log(prev_close)\n",
    "\n",
    "def RV(close: pd.Series):\n",
    "    rt = log_return(close)\n",
    "    rt = rt[~np.isnan(rt)] #remove nan value\n",
    "    rt_2 = np.power(rt, 2)\n",
    "    return np.sqrt(rt_2.sum())"
   ]
  },
  {
   "cell_type": "code",
   "execution_count": 4,
   "metadata": {},
   "outputs": [
    {
     "name": "stderr",
     "output_type": "stream",
     "text": [
      "C:\\Users\\hoanganh\\AppData\\Local\\Temp\\ipykernel_12152\\942716085.py:3: FutureWarning: The provided callable <built-in function max> is currently using SeriesGroupBy.max. In a future version of pandas, the provided callable will be used directly. To keep current behavior pass the string \"max\" instead.\n",
      "  ohlc1D = ohlc.resample('1D').agg({\n",
      "C:\\Users\\hoanganh\\AppData\\Local\\Temp\\ipykernel_12152\\942716085.py:3: FutureWarning: The provided callable <built-in function min> is currently using SeriesGroupBy.min. In a future version of pandas, the provided callable will be used directly. To keep current behavior pass the string \"min\" instead.\n",
      "  ohlc1D = ohlc.resample('1D').agg({\n",
      "C:\\Users\\hoanganh\\AppData\\Local\\Temp\\ipykernel_12152\\942716085.py:8: RuntimeWarning: divide by zero encountered in log\n",
      "  'volume': lambda x: np.log(x.sum()),\n"
     ]
    }
   ],
   "source": [
    "ohlc['rv'] = ohlc['close']\n",
    "\n",
    "ohlc1D = ohlc.resample('1D').agg({\n",
    "    'open': 'first',\n",
    "    'high': max,\n",
    "    'low': min,\n",
    "    'close': 'last',\n",
    "    'volume': lambda x: np.log(x.sum()),\n",
    "    'rv': lambda x: RV(x)\n",
    "})\n",
    "\n",
    "ohlc1D['rt'] = log_return(ohlc1D['close'])\n",
    "\n",
    "tweets['tweets_per_day'] = np.log(tweets['tweets_per_day'])\n",
    "\n",
    "combined_df = ohlc1D.join(tweets, how='inner')[['tweets_per_day', 'rv', 'volume', 'rt']]\n",
    "\n",
    "combined_df = combined_df.replace([np.inf, -np.inf], np.nan)\n",
    "combined_df.dropna(inplace=True)"
   ]
  },
  {
   "cell_type": "code",
   "execution_count": 5,
   "metadata": {},
   "outputs": [
    {
     "data": {
      "text/html": [
       "<div>\n",
       "<style scoped>\n",
       "    .dataframe tbody tr th:only-of-type {\n",
       "        vertical-align: middle;\n",
       "    }\n",
       "\n",
       "    .dataframe tbody tr th {\n",
       "        vertical-align: top;\n",
       "    }\n",
       "\n",
       "    .dataframe thead th {\n",
       "        text-align: right;\n",
       "    }\n",
       "</style>\n",
       "<table border=\"1\" class=\"dataframe\">\n",
       "  <thead>\n",
       "    <tr style=\"text-align: right;\">\n",
       "      <th></th>\n",
       "      <th>tweets_per_day</th>\n",
       "      <th>rv</th>\n",
       "      <th>volume</th>\n",
       "      <th>rt</th>\n",
       "    </tr>\n",
       "  </thead>\n",
       "  <tbody>\n",
       "    <tr>\n",
       "      <th>count</th>\n",
       "      <td>1548.000000</td>\n",
       "      <td>1548.000000</td>\n",
       "      <td>1548.000000</td>\n",
       "      <td>1548.000000</td>\n",
       "    </tr>\n",
       "    <tr>\n",
       "      <th>mean</th>\n",
       "      <td>10.325038</td>\n",
       "      <td>0.042297</td>\n",
       "      <td>9.051199</td>\n",
       "      <td>0.002283</td>\n",
       "    </tr>\n",
       "    <tr>\n",
       "      <th>std</th>\n",
       "      <td>0.470132</td>\n",
       "      <td>0.027147</td>\n",
       "      <td>0.768731</td>\n",
       "      <td>0.039141</td>\n",
       "    </tr>\n",
       "    <tr>\n",
       "      <th>min</th>\n",
       "      <td>8.895630</td>\n",
       "      <td>0.000000</td>\n",
       "      <td>3.046648</td>\n",
       "      <td>-0.280892</td>\n",
       "    </tr>\n",
       "    <tr>\n",
       "      <th>25%</th>\n",
       "      <td>10.002846</td>\n",
       "      <td>0.025027</td>\n",
       "      <td>8.557430</td>\n",
       "      <td>-0.011928</td>\n",
       "    </tr>\n",
       "    <tr>\n",
       "      <th>50%</th>\n",
       "      <td>10.209850</td>\n",
       "      <td>0.035077</td>\n",
       "      <td>9.070463</td>\n",
       "      <td>0.001976</td>\n",
       "    </tr>\n",
       "    <tr>\n",
       "      <th>75%</th>\n",
       "      <td>10.571528</td>\n",
       "      <td>0.050414</td>\n",
       "      <td>9.586670</td>\n",
       "      <td>0.017718</td>\n",
       "    </tr>\n",
       "    <tr>\n",
       "      <th>max</th>\n",
       "      <td>11.955044</td>\n",
       "      <td>0.336667</td>\n",
       "      <td>11.729559</td>\n",
       "      <td>0.238396</td>\n",
       "    </tr>\n",
       "    <tr>\n",
       "      <th>skew</th>\n",
       "      <td>0.774798</td>\n",
       "      <td>3.016309</td>\n",
       "      <td>-0.370167</td>\n",
       "      <td>-0.283650</td>\n",
       "    </tr>\n",
       "    <tr>\n",
       "      <th>kurt</th>\n",
       "      <td>0.238856</td>\n",
       "      <td>16.958050</td>\n",
       "      <td>2.218066</td>\n",
       "      <td>6.237375</td>\n",
       "    </tr>\n",
       "  </tbody>\n",
       "</table>\n",
       "</div>"
      ],
      "text/plain": [
       "       tweets_per_day           rv       volume           rt\n",
       "count     1548.000000  1548.000000  1548.000000  1548.000000\n",
       "mean        10.325038     0.042297     9.051199     0.002283\n",
       "std          0.470132     0.027147     0.768731     0.039141\n",
       "min          8.895630     0.000000     3.046648    -0.280892\n",
       "25%         10.002846     0.025027     8.557430    -0.011928\n",
       "50%         10.209850     0.035077     9.070463     0.001976\n",
       "75%         10.571528     0.050414     9.586670     0.017718\n",
       "max         11.955044     0.336667    11.729559     0.238396\n",
       "skew         0.774798     3.016309    -0.370167    -0.283650\n",
       "kurt         0.238856    16.958050     2.218066     6.237375"
      ]
     },
     "execution_count": 5,
     "metadata": {},
     "output_type": "execute_result"
    }
   ],
   "source": [
    "description = combined_df.describe()\n",
    "\n",
    "skewness = combined_df.skew()\n",
    "kurtosis = combined_df.kurtosis()\n",
    "\n",
    "extra_stats = pd.DataFrame([skewness, kurtosis], index=['skew', 'kurt'])\n",
    "\n",
    "extended_description = pd.concat([description, extra_stats])\n",
    "\n",
    "extended_description"
   ]
  },
  {
   "cell_type": "markdown",
   "metadata": {},
   "source": [
    "# VAR model"
   ]
  },
  {
   "cell_type": "code",
   "execution_count": 6,
   "metadata": {},
   "outputs": [],
   "source": [
    "import statsmodels.api as sm\n",
    "from statsmodels.tsa.api import VAR"
   ]
  },
  {
   "cell_type": "code",
   "execution_count": 7,
   "metadata": {},
   "outputs": [],
   "source": [
    "subsamples_1 = combined_df[combined_df.index <= datetime.strptime('2017/10/08', '%Y/%m/%d')]\n",
    "subsamples_2 = combined_df[combined_df.index > datetime.strptime('2017/10/08', '%Y/%m/%d')]"
   ]
  },
  {
   "cell_type": "markdown",
   "metadata": {},
   "source": [
    "## Full samples (Table 2)"
   ]
  },
  {
   "cell_type": "markdown",
   "metadata": {},
   "source": [
    "### Tweets & RV"
   ]
  },
  {
   "cell_type": "code",
   "execution_count": 8,
   "metadata": {},
   "outputs": [
    {
     "name": "stdout",
     "output_type": "stream",
     "text": [
      "The optimal lag length is 7 with a BIC of -11.68140133646638.\n",
      "  Summary of Regression Results   \n",
      "==================================\n",
      "Model:                         VAR\n",
      "Method:                        OLS\n",
      "Date:           Wed, 08, May, 2024\n",
      "Time:                     10:41:31\n",
      "--------------------------------------------------------------------\n",
      "No. of Equations:         2.00000    BIC:                   -11.6814\n",
      "Nobs:                     1541.00    HQIC:                  -11.7467\n",
      "Log likelihood:           4737.45    FPE:                7.61522e-06\n",
      "AIC:                     -11.7854    Det(Omega_mle):     7.46910e-06\n",
      "--------------------------------------------------------------------\n",
      "Results for equation rv\n",
      "====================================================================================\n",
      "                       coefficient       std. error           t-stat            prob\n",
      "------------------------------------------------------------------------------------\n",
      "const                    -0.027487         0.011525           -2.385           0.017\n",
      "L1.rv                     0.559641         0.026086           21.453           0.000\n",
      "L1.tweets_per_day         0.010019         0.003100            3.232           0.001\n",
      "L2.rv                     0.050682         0.029754            1.703           0.088\n",
      "L2.tweets_per_day         0.000539         0.003414            0.158           0.874\n",
      "L3.rv                     0.017231         0.029736            0.579           0.562\n",
      "L3.tweets_per_day        -0.006176         0.003407           -1.813           0.070\n",
      "L4.rv                     0.040313         0.029712            1.357           0.175\n",
      "L4.tweets_per_day         0.004605         0.003409            1.351           0.177\n",
      "L5.rv                     0.015623         0.029688            0.526           0.599\n",
      "L5.tweets_per_day         0.000047         0.003395            0.014           0.989\n",
      "L6.rv                     0.069427         0.029560            2.349           0.019\n",
      "L6.tweets_per_day         0.002452         0.003398            0.722           0.471\n",
      "L7.rv                     0.036524         0.025751            1.418           0.156\n",
      "L7.tweets_per_day        -0.007981         0.003087           -2.586           0.010\n",
      "====================================================================================\n",
      "\n",
      "Results for equation tweets_per_day\n",
      "====================================================================================\n",
      "                       coefficient       std. error           t-stat            prob\n",
      "------------------------------------------------------------------------------------\n",
      "const                     0.201617         0.094190            2.141           0.032\n",
      "L1.rv                     0.552509         0.213196            2.592           0.010\n",
      "L1.tweets_per_day         0.469171         0.025335           18.518           0.000\n",
      "L2.rv                    -0.163281         0.243170           -0.671           0.502\n",
      "L2.tweets_per_day         0.032452         0.027901            1.163           0.245\n",
      "L3.rv                    -0.318714         0.243025           -1.311           0.190\n",
      "L3.tweets_per_day         0.017701         0.027841            0.636           0.525\n",
      "L4.rv                     0.364027         0.242825            1.499           0.134\n",
      "L4.tweets_per_day         0.032171         0.027864            1.155           0.248\n",
      "L5.rv                    -0.277192         0.242633           -1.142           0.253\n",
      "L5.tweets_per_day         0.071311         0.027744            2.570           0.010\n",
      "L6.rv                     0.016261         0.241586            0.067           0.946\n",
      "L6.tweets_per_day         0.104081         0.027772            3.748           0.000\n",
      "L7.rv                    -0.283029         0.210455           -1.345           0.179\n",
      "L7.tweets_per_day         0.254235         0.025227           10.078           0.000\n",
      "====================================================================================\n",
      "\n",
      "Correlation matrix of residuals\n",
      "                        rv  tweets_per_day\n",
      "rv                1.000000        0.230478\n",
      "tweets_per_day    0.230478        1.000000\n",
      "\n",
      "\n",
      "\n"
     ]
    },
    {
     "name": "stderr",
     "output_type": "stream",
     "text": [
      "c:\\Users\\hoanganh\\Desktop\\twitter-bitcoin\\.venv\\lib\\site-packages\\statsmodels\\tsa\\base\\tsa_model.py:473: ValueWarning: A date index has been provided, but it has no associated frequency information and so will be ignored when e.g. forecasting.\n",
      "  self._init_dates(dates, freq)\n",
      "c:\\Users\\hoanganh\\Desktop\\twitter-bitcoin\\.venv\\lib\\site-packages\\statsmodels\\tsa\\base\\tsa_model.py:473: ValueWarning: A date index has been provided, but it has no associated frequency information and so will be ignored when e.g. forecasting.\n",
      "  self._init_dates(dates, freq)\n",
      "c:\\Users\\hoanganh\\Desktop\\twitter-bitcoin\\.venv\\lib\\site-packages\\statsmodels\\tsa\\base\\tsa_model.py:473: ValueWarning: A date index has been provided, but it has no associated frequency information and so will be ignored when e.g. forecasting.\n",
      "  self._init_dates(dates, freq)\n",
      "c:\\Users\\hoanganh\\Desktop\\twitter-bitcoin\\.venv\\lib\\site-packages\\statsmodels\\tsa\\base\\tsa_model.py:473: ValueWarning: A date index has been provided, but it has no associated frequency information and so will be ignored when e.g. forecasting.\n",
      "  self._init_dates(dates, freq)\n",
      "c:\\Users\\hoanganh\\Desktop\\twitter-bitcoin\\.venv\\lib\\site-packages\\statsmodels\\tsa\\base\\tsa_model.py:473: ValueWarning: A date index has been provided, but it has no associated frequency information and so will be ignored when e.g. forecasting.\n",
      "  self._init_dates(dates, freq)\n",
      "c:\\Users\\hoanganh\\Desktop\\twitter-bitcoin\\.venv\\lib\\site-packages\\statsmodels\\tsa\\base\\tsa_model.py:473: ValueWarning: A date index has been provided, but it has no associated frequency information and so will be ignored when e.g. forecasting.\n",
      "  self._init_dates(dates, freq)\n",
      "c:\\Users\\hoanganh\\Desktop\\twitter-bitcoin\\.venv\\lib\\site-packages\\statsmodels\\tsa\\base\\tsa_model.py:473: ValueWarning: A date index has been provided, but it has no associated frequency information and so will be ignored when e.g. forecasting.\n",
      "  self._init_dates(dates, freq)\n",
      "c:\\Users\\hoanganh\\Desktop\\twitter-bitcoin\\.venv\\lib\\site-packages\\statsmodels\\tsa\\base\\tsa_model.py:473: ValueWarning: A date index has been provided, but it has no associated frequency information and so will be ignored when e.g. forecasting.\n",
      "  self._init_dates(dates, freq)\n",
      "c:\\Users\\hoanganh\\Desktop\\twitter-bitcoin\\.venv\\lib\\site-packages\\statsmodels\\tsa\\base\\tsa_model.py:473: ValueWarning: A date index has been provided, but it has no associated frequency information and so will be ignored when e.g. forecasting.\n",
      "  self._init_dates(dates, freq)\n",
      "c:\\Users\\hoanganh\\Desktop\\twitter-bitcoin\\.venv\\lib\\site-packages\\statsmodels\\tsa\\base\\tsa_model.py:473: ValueWarning: A date index has been provided, but it has no associated frequency information and so will be ignored when e.g. forecasting.\n",
      "  self._init_dates(dates, freq)\n",
      "c:\\Users\\hoanganh\\Desktop\\twitter-bitcoin\\.venv\\lib\\site-packages\\statsmodels\\tsa\\base\\tsa_model.py:473: ValueWarning: A date index has been provided, but it has no associated frequency information and so will be ignored when e.g. forecasting.\n",
      "  self._init_dates(dates, freq)\n"
     ]
    }
   ],
   "source": [
    "maxlags = 10  # Maximum lag length to test\n",
    "bic_values = []\n",
    "\n",
    "for lag in range(1, maxlags + 1):\n",
    "    model = VAR(combined_df[['rv','tweets_per_day']])\n",
    "    results = model.fit(lag)\n",
    "    bic_values.append(results.bic)\n",
    "\n",
    "optimal_lag = np.argmin(bic_values) + 1  # Adding 1 because index starts at 0\n",
    "print(f\"The optimal lag length is {optimal_lag} with a BIC of {min(bic_values)}.\")\n",
    "\n",
    "final_model = VAR(combined_df[['rv','tweets_per_day']])\n",
    "final_results = final_model.fit(optimal_lag)\n",
    "print(final_results.summary())"
   ]
  },
  {
   "cell_type": "code",
   "execution_count": 10,
   "metadata": {},
   "outputs": [
    {
     "name": "stdout",
     "output_type": "stream",
     "text": [
      "Granger causality F-test. H_0: tweets_per_day does not Granger-cause rv. Conclusion: reject H_0 at 5% significance level.\n",
      "===============================================\n",
      "Test statistic Critical value p-value     df   \n",
      "-----------------------------------------------\n",
      "         3.793          2.013   0.000 (7, 3052)\n",
      "-----------------------------------------------\n",
      "Granger causality F-test. H_0: rv does not Granger-cause tweets_per_day. Conclusion: fail to reject H_0 at 5% significance level.\n",
      "===============================================\n",
      "Test statistic Critical value p-value     df   \n",
      "-----------------------------------------------\n",
      "         1.801          2.013   0.083 (7, 3052)\n",
      "-----------------------------------------------\n"
     ]
    }
   ],
   "source": [
    "granger_results = final_results.test_causality('rv', 'tweets_per_day', kind='f')\n",
    "print(granger_results.summary())\n",
    "granger_results = final_results.test_causality('tweets_per_day', 'rv', kind='f')\n",
    "print(granger_results.summary())"
   ]
  },
  {
   "cell_type": "markdown",
   "metadata": {},
   "source": [
    "### Tweets & Volume"
   ]
  },
  {
   "cell_type": "code",
   "execution_count": 11,
   "metadata": {},
   "outputs": [
    {
     "name": "stdout",
     "output_type": "stream",
     "text": [
      "The optimal lag length is 7 with a BIC of -5.132004015533787.\n",
      "  Summary of Regression Results   \n",
      "==================================\n",
      "Model:                         VAR\n",
      "Method:                        OLS\n",
      "Date:           Wed, 08, May, 2024\n",
      "Time:                     11:24:00\n",
      "--------------------------------------------------------------------\n",
      "No. of Equations:         2.00000    BIC:                   -5.13200\n",
      "Nobs:                     1541.00    HQIC:                  -5.19729\n",
      "Log likelihood:          -308.857    FPE:                 0.00532169\n",
      "AIC:                     -5.23597    Det(Omega_mle):      0.00521958\n",
      "--------------------------------------------------------------------\n",
      "Results for equation volume\n",
      "====================================================================================\n",
      "                       coefficient       std. error           t-stat            prob\n",
      "------------------------------------------------------------------------------------\n",
      "const                     0.374412         0.298373            1.255           0.210\n",
      "L1.volume                 0.490393         0.027696           17.706           0.000\n",
      "L1.tweets_per_day         0.131540         0.086603            1.519           0.129\n",
      "L2.volume                 0.012351         0.030649            0.403           0.687\n",
      "L2.tweets_per_day        -0.044001         0.094793           -0.464           0.643\n",
      "L3.volume                 0.098504         0.030655            3.213           0.001\n",
      "L3.tweets_per_day        -0.312633         0.094479           -3.309           0.001\n",
      "L4.volume                 0.052882         0.030723            1.721           0.085\n",
      "L4.tweets_per_day        -0.030560         0.094727           -0.323           0.747\n",
      "L5.volume                -0.011802         0.030576           -0.386           0.699\n",
      "L5.tweets_per_day        -0.045404         0.094397           -0.481           0.631\n",
      "L6.volume                 0.076199         0.030625            2.488           0.013\n",
      "L6.tweets_per_day         0.234034         0.094344            2.481           0.013\n",
      "L7.volume                 0.154679         0.027608            5.603           0.000\n",
      "L7.tweets_per_day         0.141337         0.086021            1.643           0.100\n",
      "====================================================================================\n",
      "\n",
      "Results for equation tweets_per_day\n",
      "====================================================================================\n",
      "                       coefficient       std. error           t-stat            prob\n",
      "------------------------------------------------------------------------------------\n",
      "const                     0.200009         0.090153            2.219           0.027\n",
      "L1.volume                 0.022613         0.008368            2.702           0.007\n",
      "L1.tweets_per_day         0.458885         0.026167           17.537           0.000\n",
      "L2.volume                -0.021193         0.009261           -2.288           0.022\n",
      "L2.tweets_per_day         0.053763         0.028642            1.877           0.061\n",
      "L3.volume                -0.000966         0.009262           -0.104           0.917\n",
      "L3.tweets_per_day         0.019429         0.028547            0.681           0.496\n",
      "L4.volume                -0.009182         0.009283           -0.989           0.323\n",
      "L4.tweets_per_day         0.059473         0.028622            2.078           0.038\n",
      "L5.volume                -0.024678         0.009238           -2.671           0.008\n",
      "L5.tweets_per_day         0.090046         0.028522            3.157           0.002\n",
      "L6.volume                 0.026012         0.009253            2.811           0.005\n",
      "L6.tweets_per_day         0.082113         0.028506            2.881           0.004\n",
      "L7.volume                 0.012885         0.008342            1.545           0.122\n",
      "L7.tweets_per_day         0.212281         0.025991            8.167           0.000\n",
      "====================================================================================\n",
      "\n",
      "Correlation matrix of residuals\n",
      "                    volume  tweets_per_day\n",
      "volume            1.000000        0.274126\n",
      "tweets_per_day    0.274126        1.000000\n",
      "\n",
      "\n",
      "\n"
     ]
    },
    {
     "name": "stderr",
     "output_type": "stream",
     "text": [
      "c:\\Users\\hoanganh\\Desktop\\twitter-bitcoin\\.venv\\lib\\site-packages\\statsmodels\\tsa\\base\\tsa_model.py:473: ValueWarning: A date index has been provided, but it has no associated frequency information and so will be ignored when e.g. forecasting.\n",
      "  self._init_dates(dates, freq)\n",
      "c:\\Users\\hoanganh\\Desktop\\twitter-bitcoin\\.venv\\lib\\site-packages\\statsmodels\\tsa\\base\\tsa_model.py:473: ValueWarning: A date index has been provided, but it has no associated frequency information and so will be ignored when e.g. forecasting.\n",
      "  self._init_dates(dates, freq)\n",
      "c:\\Users\\hoanganh\\Desktop\\twitter-bitcoin\\.venv\\lib\\site-packages\\statsmodels\\tsa\\base\\tsa_model.py:473: ValueWarning: A date index has been provided, but it has no associated frequency information and so will be ignored when e.g. forecasting.\n",
      "  self._init_dates(dates, freq)\n",
      "c:\\Users\\hoanganh\\Desktop\\twitter-bitcoin\\.venv\\lib\\site-packages\\statsmodels\\tsa\\base\\tsa_model.py:473: ValueWarning: A date index has been provided, but it has no associated frequency information and so will be ignored when e.g. forecasting.\n",
      "  self._init_dates(dates, freq)\n",
      "c:\\Users\\hoanganh\\Desktop\\twitter-bitcoin\\.venv\\lib\\site-packages\\statsmodels\\tsa\\base\\tsa_model.py:473: ValueWarning: A date index has been provided, but it has no associated frequency information and so will be ignored when e.g. forecasting.\n",
      "  self._init_dates(dates, freq)\n",
      "c:\\Users\\hoanganh\\Desktop\\twitter-bitcoin\\.venv\\lib\\site-packages\\statsmodels\\tsa\\base\\tsa_model.py:473: ValueWarning: A date index has been provided, but it has no associated frequency information and so will be ignored when e.g. forecasting.\n",
      "  self._init_dates(dates, freq)\n",
      "c:\\Users\\hoanganh\\Desktop\\twitter-bitcoin\\.venv\\lib\\site-packages\\statsmodels\\tsa\\base\\tsa_model.py:473: ValueWarning: A date index has been provided, but it has no associated frequency information and so will be ignored when e.g. forecasting.\n",
      "  self._init_dates(dates, freq)\n",
      "c:\\Users\\hoanganh\\Desktop\\twitter-bitcoin\\.venv\\lib\\site-packages\\statsmodels\\tsa\\base\\tsa_model.py:473: ValueWarning: A date index has been provided, but it has no associated frequency information and so will be ignored when e.g. forecasting.\n",
      "  self._init_dates(dates, freq)\n",
      "c:\\Users\\hoanganh\\Desktop\\twitter-bitcoin\\.venv\\lib\\site-packages\\statsmodels\\tsa\\base\\tsa_model.py:473: ValueWarning: A date index has been provided, but it has no associated frequency information and so will be ignored when e.g. forecasting.\n",
      "  self._init_dates(dates, freq)\n",
      "c:\\Users\\hoanganh\\Desktop\\twitter-bitcoin\\.venv\\lib\\site-packages\\statsmodels\\tsa\\base\\tsa_model.py:473: ValueWarning: A date index has been provided, but it has no associated frequency information and so will be ignored when e.g. forecasting.\n",
      "  self._init_dates(dates, freq)\n",
      "c:\\Users\\hoanganh\\Desktop\\twitter-bitcoin\\.venv\\lib\\site-packages\\statsmodels\\tsa\\base\\tsa_model.py:473: ValueWarning: A date index has been provided, but it has no associated frequency information and so will be ignored when e.g. forecasting.\n",
      "  self._init_dates(dates, freq)\n"
     ]
    }
   ],
   "source": [
    "maxlags = 10  # Maximum lag length to test\n",
    "bic_values = []\n",
    "\n",
    "for lag in range(1, maxlags + 1):\n",
    "    model = VAR(combined_df[['volume','tweets_per_day']])\n",
    "    results = model.fit(lag)\n",
    "    bic_values.append(results.bic)\n",
    "\n",
    "optimal_lag = np.argmin(bic_values) + 1  # Adding 1 because index starts at 0\n",
    "print(f\"The optimal lag length is {optimal_lag} with a BIC of {min(bic_values)}.\")\n",
    "\n",
    "final_model = VAR(combined_df[['volume','tweets_per_day']])\n",
    "final_results = final_model.fit(optimal_lag)\n",
    "print(final_results.summary())"
   ]
  },
  {
   "cell_type": "code",
   "execution_count": 12,
   "metadata": {},
   "outputs": [
    {
     "name": "stdout",
     "output_type": "stream",
     "text": [
      "Granger causality F-test. H_0: tweets_per_day does not Granger-cause volume. Conclusion: reject H_0 at 5% significance level.\n",
      "===============================================\n",
      "Test statistic Critical value p-value     df   \n",
      "-----------------------------------------------\n",
      "         5.058          2.013   0.000 (7, 3052)\n",
      "-----------------------------------------------\n",
      "Granger causality F-test. H_0: volume does not Granger-cause tweets_per_day. Conclusion: reject H_0 at 5% significance level.\n",
      "===============================================\n",
      "Test statistic Critical value p-value     df   \n",
      "-----------------------------------------------\n",
      "         4.271          2.013   0.000 (7, 3052)\n",
      "-----------------------------------------------\n"
     ]
    }
   ],
   "source": [
    "granger_results = final_results.test_causality('volume', 'tweets_per_day', kind='f')\n",
    "print(granger_results.summary())\n",
    "granger_results = final_results.test_causality('tweets_per_day', 'volume', kind='f')\n",
    "print(granger_results.summary())"
   ]
  },
  {
   "cell_type": "markdown",
   "metadata": {},
   "source": [
    "### Tweets & rt"
   ]
  },
  {
   "cell_type": "code",
   "execution_count": 13,
   "metadata": {},
   "outputs": [
    {
     "name": "stdout",
     "output_type": "stream",
     "text": [
      "The optimal lag length is 7 with a BIC of -10.169268390775917.\n",
      "  Summary of Regression Results   \n",
      "==================================\n",
      "Model:                         VAR\n",
      "Method:                        OLS\n",
      "Date:           Wed, 08, May, 2024\n",
      "Time:                     11:35:17\n",
      "--------------------------------------------------------------------\n",
      "No. of Equations:         2.00000    BIC:                   -10.1693\n",
      "Nobs:                     1541.00    HQIC:                  -10.2346\n",
      "Log likelihood:           3572.36    FPE:                3.45456e-05\n",
      "AIC:                     -10.2732    Det(Omega_mle):     3.38828e-05\n",
      "--------------------------------------------------------------------\n",
      "Results for equation rt\n",
      "====================================================================================\n",
      "                       coefficient       std. error           t-stat            prob\n",
      "------------------------------------------------------------------------------------\n",
      "const                    -0.040120         0.022731           -1.765           0.078\n",
      "L1.rt                    -0.008782         0.025609           -0.343           0.732\n",
      "L1.tweets_per_day        -0.012257         0.006280           -1.952           0.051\n",
      "L2.rt                    -0.027995         0.025456           -1.100           0.271\n",
      "L2.tweets_per_day        -0.003958         0.006995           -0.566           0.572\n",
      "L3.rt                     0.037812         0.025431            1.487           0.137\n",
      "L3.tweets_per_day         0.011500         0.006981            1.647           0.099\n",
      "L4.rt                    -0.036780         0.025447           -1.445           0.148\n",
      "L4.tweets_per_day         0.000440         0.006981            0.063           0.950\n",
      "L5.rt                     0.006656         0.025448            0.262           0.794\n",
      "L5.tweets_per_day        -0.008051         0.006948           -1.159           0.247\n",
      "L6.rt                     0.049345         0.025312            1.949           0.051\n",
      "L6.tweets_per_day         0.007517         0.006958            1.080           0.280\n",
      "L7.rt                     0.008989         0.025075            0.358           0.720\n",
      "L7.tweets_per_day         0.008900         0.006252            1.424           0.155\n",
      "====================================================================================\n",
      "\n",
      "Results for equation tweets_per_day\n",
      "====================================================================================\n",
      "                       coefficient       std. error           t-stat            prob\n",
      "------------------------------------------------------------------------------------\n",
      "const                     0.225664         0.089987            2.508           0.012\n",
      "L1.rt                    -0.046523         0.101381           -0.459           0.646\n",
      "L1.tweets_per_day         0.483617         0.024860           19.454           0.000\n",
      "L2.rt                    -0.045645         0.100774           -0.453           0.651\n",
      "L2.tweets_per_day         0.034175         0.027693            1.234           0.217\n",
      "L3.rt                     0.131984         0.100675            1.311           0.190\n",
      "L3.tweets_per_day         0.008585         0.027635            0.311           0.756\n",
      "L4.rt                     0.130120         0.100738            1.292           0.196\n",
      "L4.tweets_per_day         0.035835         0.027636            1.297           0.195\n",
      "L5.rt                     0.010984         0.100742            0.109           0.913\n",
      "L5.tweets_per_day         0.072448         0.027504            2.634           0.008\n",
      "L6.rt                     0.019550         0.100204            0.195           0.845\n",
      "L6.tweets_per_day         0.102708         0.027546            3.729           0.000\n",
      "L7.rt                     0.111807         0.099263            1.126           0.260\n",
      "L7.tweets_per_day         0.240891         0.024748            9.734           0.000\n",
      "====================================================================================\n",
      "\n",
      "Correlation matrix of residuals\n",
      "                        rt  tweets_per_day\n",
      "rt                1.000000        0.044061\n",
      "tweets_per_day    0.044061        1.000000\n",
      "\n",
      "\n",
      "\n"
     ]
    },
    {
     "name": "stderr",
     "output_type": "stream",
     "text": [
      "c:\\Users\\hoanganh\\Desktop\\twitter-bitcoin\\.venv\\lib\\site-packages\\statsmodels\\tsa\\base\\tsa_model.py:473: ValueWarning: A date index has been provided, but it has no associated frequency information and so will be ignored when e.g. forecasting.\n",
      "  self._init_dates(dates, freq)\n",
      "c:\\Users\\hoanganh\\Desktop\\twitter-bitcoin\\.venv\\lib\\site-packages\\statsmodels\\tsa\\base\\tsa_model.py:473: ValueWarning: A date index has been provided, but it has no associated frequency information and so will be ignored when e.g. forecasting.\n",
      "  self._init_dates(dates, freq)\n",
      "c:\\Users\\hoanganh\\Desktop\\twitter-bitcoin\\.venv\\lib\\site-packages\\statsmodels\\tsa\\base\\tsa_model.py:473: ValueWarning: A date index has been provided, but it has no associated frequency information and so will be ignored when e.g. forecasting.\n",
      "  self._init_dates(dates, freq)\n",
      "c:\\Users\\hoanganh\\Desktop\\twitter-bitcoin\\.venv\\lib\\site-packages\\statsmodels\\tsa\\base\\tsa_model.py:473: ValueWarning: A date index has been provided, but it has no associated frequency information and so will be ignored when e.g. forecasting.\n",
      "  self._init_dates(dates, freq)\n",
      "c:\\Users\\hoanganh\\Desktop\\twitter-bitcoin\\.venv\\lib\\site-packages\\statsmodels\\tsa\\base\\tsa_model.py:473: ValueWarning: A date index has been provided, but it has no associated frequency information and so will be ignored when e.g. forecasting.\n",
      "  self._init_dates(dates, freq)\n",
      "c:\\Users\\hoanganh\\Desktop\\twitter-bitcoin\\.venv\\lib\\site-packages\\statsmodels\\tsa\\base\\tsa_model.py:473: ValueWarning: A date index has been provided, but it has no associated frequency information and so will be ignored when e.g. forecasting.\n",
      "  self._init_dates(dates, freq)\n",
      "c:\\Users\\hoanganh\\Desktop\\twitter-bitcoin\\.venv\\lib\\site-packages\\statsmodels\\tsa\\base\\tsa_model.py:473: ValueWarning: A date index has been provided, but it has no associated frequency information and so will be ignored when e.g. forecasting.\n",
      "  self._init_dates(dates, freq)\n",
      "c:\\Users\\hoanganh\\Desktop\\twitter-bitcoin\\.venv\\lib\\site-packages\\statsmodels\\tsa\\base\\tsa_model.py:473: ValueWarning: A date index has been provided, but it has no associated frequency information and so will be ignored when e.g. forecasting.\n",
      "  self._init_dates(dates, freq)\n",
      "c:\\Users\\hoanganh\\Desktop\\twitter-bitcoin\\.venv\\lib\\site-packages\\statsmodels\\tsa\\base\\tsa_model.py:473: ValueWarning: A date index has been provided, but it has no associated frequency information and so will be ignored when e.g. forecasting.\n",
      "  self._init_dates(dates, freq)\n",
      "c:\\Users\\hoanganh\\Desktop\\twitter-bitcoin\\.venv\\lib\\site-packages\\statsmodels\\tsa\\base\\tsa_model.py:473: ValueWarning: A date index has been provided, but it has no associated frequency information and so will be ignored when e.g. forecasting.\n",
      "  self._init_dates(dates, freq)\n",
      "c:\\Users\\hoanganh\\Desktop\\twitter-bitcoin\\.venv\\lib\\site-packages\\statsmodels\\tsa\\base\\tsa_model.py:473: ValueWarning: A date index has been provided, but it has no associated frequency information and so will be ignored when e.g. forecasting.\n",
      "  self._init_dates(dates, freq)\n"
     ]
    }
   ],
   "source": [
    "maxlags = 10  # Maximum lag length to test\n",
    "bic_values = []\n",
    "\n",
    "for lag in range(1, maxlags + 1):\n",
    "    model = VAR(combined_df[['rt','tweets_per_day']])\n",
    "    results = model.fit(lag)\n",
    "    bic_values.append(results.bic)\n",
    "\n",
    "optimal_lag = np.argmin(bic_values) + 1  # Adding 1 because index starts at 0\n",
    "print(f\"The optimal lag length is {optimal_lag} with a BIC of {min(bic_values)}.\")\n",
    "\n",
    "final_model = VAR(combined_df[['rt','tweets_per_day']])\n",
    "final_results = final_model.fit(optimal_lag)\n",
    "print(final_results.summary())"
   ]
  },
  {
   "cell_type": "code",
   "execution_count": 14,
   "metadata": {},
   "outputs": [
    {
     "name": "stdout",
     "output_type": "stream",
     "text": [
      "Granger causality F-test. H_0: tweets_per_day does not Granger-cause rt. Conclusion: reject H_0 at 5% significance level.\n",
      "===============================================\n",
      "Test statistic Critical value p-value     df   \n",
      "-----------------------------------------------\n",
      "         2.031          2.013   0.048 (7, 3052)\n",
      "-----------------------------------------------\n",
      "Granger causality F-test. H_0: rt does not Granger-cause tweets_per_day. Conclusion: fail to reject H_0 at 5% significance level.\n",
      "===============================================\n",
      "Test statistic Critical value p-value     df   \n",
      "-----------------------------------------------\n",
      "        0.7340          2.013   0.643 (7, 3052)\n",
      "-----------------------------------------------\n"
     ]
    }
   ],
   "source": [
    "granger_results = final_results.test_causality('rt', 'tweets_per_day', kind='f')\n",
    "print(granger_results.summary())\n",
    "granger_results = final_results.test_causality('tweets_per_day', 'rt', kind='f')\n",
    "print(granger_results.summary())"
   ]
  },
  {
   "cell_type": "markdown",
   "metadata": {},
   "source": [
    "## Subsamples 1 (Table 3)"
   ]
  },
  {
   "cell_type": "markdown",
   "metadata": {},
   "source": [
    "### Tweets & RV"
   ]
  },
  {
   "cell_type": "code",
   "execution_count": 15,
   "metadata": {},
   "outputs": [
    {
     "name": "stdout",
     "output_type": "stream",
     "text": [
      "The optimal lag length is 7 with a BIC of -11.649439796596127.\n",
      "  Summary of Regression Results   \n",
      "==================================\n",
      "Model:                         VAR\n",
      "Method:                        OLS\n",
      "Date:           Wed, 08, May, 2024\n",
      "Time:                     11:50:11\n",
      "--------------------------------------------------------------------\n",
      "No. of Equations:         2.00000    BIC:                   -11.6494\n",
      "Nobs:                     1249.00    HQIC:                  -11.7263\n",
      "Log likelihood:           3837.52    FPE:                7.71258e-06\n",
      "AIC:                     -11.7727    Det(Omega_mle):     7.53061e-06\n",
      "--------------------------------------------------------------------\n",
      "Results for equation rv\n",
      "====================================================================================\n",
      "                       coefficient       std. error           t-stat            prob\n",
      "------------------------------------------------------------------------------------\n",
      "const                     0.000830         0.017014            0.049           0.961\n",
      "L1.rv                     0.583851         0.028849           20.238           0.000\n",
      "L1.tweets_per_day         0.005999         0.003181            1.886           0.059\n",
      "L2.rv                     0.017020         0.033290            0.511           0.609\n",
      "L2.tweets_per_day         0.001188         0.003501            0.339           0.734\n",
      "L3.rv                     0.005738         0.033215            0.173           0.863\n",
      "L3.tweets_per_day        -0.003134         0.003494           -0.897           0.370\n",
      "L4.rv                     0.052591         0.033166            1.586           0.113\n",
      "L4.tweets_per_day         0.003002         0.003496            0.859           0.391\n",
      "L5.rv                     0.006592         0.033171            0.199           0.842\n",
      "L5.tweets_per_day         0.000933         0.003480            0.268           0.789\n",
      "L6.rv                     0.075889         0.033012            2.299           0.022\n",
      "L6.tweets_per_day         0.001482         0.003485            0.425           0.671\n",
      "L7.rv                     0.042417         0.028446            1.491           0.136\n",
      "L7.tweets_per_day        -0.008727         0.003172           -2.751           0.006\n",
      "====================================================================================\n",
      "\n",
      "Results for equation tweets_per_day\n",
      "====================================================================================\n",
      "                       coefficient       std. error           t-stat            prob\n",
      "------------------------------------------------------------------------------------\n",
      "const                     0.327732         0.150375            2.179           0.029\n",
      "L1.rv                     0.450925         0.254974            1.769           0.077\n",
      "L1.tweets_per_day         0.460548         0.028110           16.384           0.000\n",
      "L2.rv                    -0.045549         0.294216           -0.155           0.877\n",
      "L2.tweets_per_day         0.035022         0.030940            1.132           0.258\n",
      "L3.rv                    -0.307912         0.293561           -1.049           0.294\n",
      "L3.tweets_per_day         0.026452         0.030876            0.857           0.392\n",
      "L4.rv                     0.291175         0.293128            0.993           0.321\n",
      "L4.tweets_per_day         0.026627         0.030900            0.862           0.389\n",
      "L5.rv                    -0.217213         0.293165           -0.741           0.459\n",
      "L5.tweets_per_day         0.076675         0.030760            2.493           0.013\n",
      "L6.rv                     0.080992         0.291758            0.278           0.781\n",
      "L6.tweets_per_day         0.093274         0.030799            3.028           0.002\n",
      "L7.rv                    -0.297049         0.251409           -1.182           0.237\n",
      "L7.tweets_per_day         0.249832         0.028037            8.911           0.000\n",
      "====================================================================================\n",
      "\n",
      "Correlation matrix of residuals\n",
      "                        rv  tweets_per_day\n",
      "rv                1.000000        0.216909\n",
      "tweets_per_day    0.216909        1.000000\n",
      "\n",
      "\n",
      "\n"
     ]
    },
    {
     "name": "stderr",
     "output_type": "stream",
     "text": [
      "c:\\Users\\hoanganh\\Desktop\\twitter-bitcoin\\.venv\\lib\\site-packages\\statsmodels\\tsa\\base\\tsa_model.py:473: ValueWarning: A date index has been provided, but it has no associated frequency information and so will be ignored when e.g. forecasting.\n",
      "  self._init_dates(dates, freq)\n",
      "c:\\Users\\hoanganh\\Desktop\\twitter-bitcoin\\.venv\\lib\\site-packages\\statsmodels\\tsa\\base\\tsa_model.py:473: ValueWarning: A date index has been provided, but it has no associated frequency information and so will be ignored when e.g. forecasting.\n",
      "  self._init_dates(dates, freq)\n",
      "c:\\Users\\hoanganh\\Desktop\\twitter-bitcoin\\.venv\\lib\\site-packages\\statsmodels\\tsa\\base\\tsa_model.py:473: ValueWarning: A date index has been provided, but it has no associated frequency information and so will be ignored when e.g. forecasting.\n",
      "  self._init_dates(dates, freq)\n",
      "c:\\Users\\hoanganh\\Desktop\\twitter-bitcoin\\.venv\\lib\\site-packages\\statsmodels\\tsa\\base\\tsa_model.py:473: ValueWarning: A date index has been provided, but it has no associated frequency information and so will be ignored when e.g. forecasting.\n",
      "  self._init_dates(dates, freq)\n",
      "c:\\Users\\hoanganh\\Desktop\\twitter-bitcoin\\.venv\\lib\\site-packages\\statsmodels\\tsa\\base\\tsa_model.py:473: ValueWarning: A date index has been provided, but it has no associated frequency information and so will be ignored when e.g. forecasting.\n",
      "  self._init_dates(dates, freq)\n",
      "c:\\Users\\hoanganh\\Desktop\\twitter-bitcoin\\.venv\\lib\\site-packages\\statsmodels\\tsa\\base\\tsa_model.py:473: ValueWarning: A date index has been provided, but it has no associated frequency information and so will be ignored when e.g. forecasting.\n",
      "  self._init_dates(dates, freq)\n",
      "c:\\Users\\hoanganh\\Desktop\\twitter-bitcoin\\.venv\\lib\\site-packages\\statsmodels\\tsa\\base\\tsa_model.py:473: ValueWarning: A date index has been provided, but it has no associated frequency information and so will be ignored when e.g. forecasting.\n",
      "  self._init_dates(dates, freq)\n",
      "c:\\Users\\hoanganh\\Desktop\\twitter-bitcoin\\.venv\\lib\\site-packages\\statsmodels\\tsa\\base\\tsa_model.py:473: ValueWarning: A date index has been provided, but it has no associated frequency information and so will be ignored when e.g. forecasting.\n",
      "  self._init_dates(dates, freq)\n",
      "c:\\Users\\hoanganh\\Desktop\\twitter-bitcoin\\.venv\\lib\\site-packages\\statsmodels\\tsa\\base\\tsa_model.py:473: ValueWarning: A date index has been provided, but it has no associated frequency information and so will be ignored when e.g. forecasting.\n",
      "  self._init_dates(dates, freq)\n",
      "c:\\Users\\hoanganh\\Desktop\\twitter-bitcoin\\.venv\\lib\\site-packages\\statsmodels\\tsa\\base\\tsa_model.py:473: ValueWarning: A date index has been provided, but it has no associated frequency information and so will be ignored when e.g. forecasting.\n",
      "  self._init_dates(dates, freq)\n",
      "c:\\Users\\hoanganh\\Desktop\\twitter-bitcoin\\.venv\\lib\\site-packages\\statsmodels\\tsa\\base\\tsa_model.py:473: ValueWarning: A date index has been provided, but it has no associated frequency information and so will be ignored when e.g. forecasting.\n",
      "  self._init_dates(dates, freq)\n"
     ]
    }
   ],
   "source": [
    "maxlags = 10  # Maximum lag length to test\n",
    "bic_values = []\n",
    "\n",
    "for lag in range(1, maxlags + 1):\n",
    "    model = VAR(subsamples_1[['rv','tweets_per_day']])\n",
    "    results = model.fit(lag)\n",
    "    bic_values.append(results.bic)\n",
    "\n",
    "optimal_lag = np.argmin(bic_values) + 1  # Adding 1 because index starts at 0\n",
    "print(f\"The optimal lag length is {optimal_lag} with a BIC of {min(bic_values)}.\")\n",
    "\n",
    "final_model = VAR(subsamples_1[['rv','tweets_per_day']])\n",
    "final_results = final_model.fit(optimal_lag)\n",
    "print(final_results.summary())"
   ]
  },
  {
   "cell_type": "code",
   "execution_count": 16,
   "metadata": {},
   "outputs": [
    {
     "name": "stdout",
     "output_type": "stream",
     "text": [
      "Granger causality F-test. H_0: tweets_per_day does not Granger-cause rv. Conclusion: fail to reject H_0 at 5% significance level.\n",
      "===============================================\n",
      "Test statistic Critical value p-value     df   \n",
      "-----------------------------------------------\n",
      "         1.628          2.013   0.123 (7, 2468)\n",
      "-----------------------------------------------\n",
      "Granger causality F-test. H_0: rv does not Granger-cause tweets_per_day. Conclusion: fail to reject H_0 at 5% significance level.\n",
      "===============================================\n",
      "Test statistic Critical value p-value     df   \n",
      "-----------------------------------------------\n",
      "        0.9090          2.013   0.498 (7, 2468)\n",
      "-----------------------------------------------\n"
     ]
    }
   ],
   "source": [
    "granger_results = final_results.test_causality('rv', 'tweets_per_day', kind='f')\n",
    "print(granger_results.summary())\n",
    "granger_results = final_results.test_causality('tweets_per_day', 'rv', kind='f')\n",
    "print(granger_results.summary())"
   ]
  },
  {
   "cell_type": "markdown",
   "metadata": {},
   "source": [
    "### Tweets & Volume"
   ]
  },
  {
   "cell_type": "code",
   "execution_count": 17,
   "metadata": {},
   "outputs": [
    {
     "name": "stdout",
     "output_type": "stream",
     "text": [
      "The optimal lag length is 7 with a BIC of -5.055154516424987.\n",
      "  Summary of Regression Results   \n",
      "==================================\n",
      "Model:                         VAR\n",
      "Method:                        OLS\n",
      "Date:           Wed, 08, May, 2024\n",
      "Time:                     11:50:11\n",
      "--------------------------------------------------------------------\n",
      "No. of Equations:         2.00000    BIC:                   -5.05515\n",
      "Nobs:                     1249.00    HQIC:                  -5.13205\n",
      "Log likelihood:          -280.613    FPE:                 0.00563717\n",
      "AIC:                     -5.17838    Det(Omega_mle):      0.00550417\n",
      "--------------------------------------------------------------------\n",
      "Results for equation volume\n",
      "====================================================================================\n",
      "                       coefficient       std. error           t-stat            prob\n",
      "------------------------------------------------------------------------------------\n",
      "const                     0.189880         0.466979            0.407           0.684\n",
      "L1.volume                 0.500509         0.029214           17.132           0.000\n",
      "L1.tweets_per_day         0.078727         0.090944            0.866           0.387\n",
      "L2.volume                -0.000828         0.032520           -0.025           0.980\n",
      "L2.tweets_per_day         0.016645         0.099377            0.167           0.867\n",
      "L3.volume                 0.103798         0.032507            3.193           0.001\n",
      "L3.tweets_per_day        -0.278036         0.099055           -2.807           0.005\n",
      "L4.volume                 0.050547         0.032575            1.552           0.121\n",
      "L4.tweets_per_day        -0.028249         0.099315           -0.284           0.776\n",
      "L5.volume                -0.017182         0.032436           -0.530           0.596\n",
      "L5.tweets_per_day        -0.065296         0.098921           -0.660           0.509\n",
      "L6.volume                 0.085446         0.032484            2.630           0.009\n",
      "L6.tweets_per_day         0.192804         0.098942            1.949           0.051\n",
      "L7.volume                 0.155992         0.029191            5.344           0.000\n",
      "L7.tweets_per_day         0.172185         0.090448            1.904           0.057\n",
      "====================================================================================\n",
      "\n",
      "Results for equation tweets_per_day\n",
      "====================================================================================\n",
      "                       coefficient       std. error           t-stat            prob\n",
      "------------------------------------------------------------------------------------\n",
      "const                     0.334834         0.148468            2.255           0.024\n",
      "L1.volume                 0.021677         0.009288            2.334           0.020\n",
      "L1.tweets_per_day         0.447572         0.028914           15.480           0.000\n",
      "L2.volume                -0.019422         0.010339           -1.879           0.060\n",
      "L2.tweets_per_day         0.055077         0.031595            1.743           0.081\n",
      "L3.volume                 0.000094         0.010335            0.009           0.993\n",
      "L3.tweets_per_day         0.025645         0.031493            0.814           0.415\n",
      "L4.volume                -0.010815         0.010357           -1.044           0.296\n",
      "L4.tweets_per_day         0.053866         0.031575            1.706           0.088\n",
      "L5.volume                -0.022562         0.010312           -2.188           0.029\n",
      "L5.tweets_per_day         0.091425         0.031450            2.907           0.004\n",
      "L6.volume                 0.029524         0.010328            2.859           0.004\n",
      "L6.tweets_per_day         0.071106         0.031457            2.260           0.024\n",
      "L7.volume                 0.010790         0.009281            1.163           0.245\n",
      "L7.tweets_per_day         0.214625         0.028756            7.464           0.000\n",
      "====================================================================================\n",
      "\n",
      "Correlation matrix of residuals\n",
      "                    volume  tweets_per_day\n",
      "volume            1.000000        0.268064\n",
      "tweets_per_day    0.268064        1.000000\n",
      "\n",
      "\n",
      "\n"
     ]
    },
    {
     "name": "stderr",
     "output_type": "stream",
     "text": [
      "c:\\Users\\hoanganh\\Desktop\\twitter-bitcoin\\.venv\\lib\\site-packages\\statsmodels\\tsa\\base\\tsa_model.py:473: ValueWarning: A date index has been provided, but it has no associated frequency information and so will be ignored when e.g. forecasting.\n",
      "  self._init_dates(dates, freq)\n",
      "c:\\Users\\hoanganh\\Desktop\\twitter-bitcoin\\.venv\\lib\\site-packages\\statsmodels\\tsa\\base\\tsa_model.py:473: ValueWarning: A date index has been provided, but it has no associated frequency information and so will be ignored when e.g. forecasting.\n",
      "  self._init_dates(dates, freq)\n",
      "c:\\Users\\hoanganh\\Desktop\\twitter-bitcoin\\.venv\\lib\\site-packages\\statsmodels\\tsa\\base\\tsa_model.py:473: ValueWarning: A date index has been provided, but it has no associated frequency information and so will be ignored when e.g. forecasting.\n",
      "  self._init_dates(dates, freq)\n",
      "c:\\Users\\hoanganh\\Desktop\\twitter-bitcoin\\.venv\\lib\\site-packages\\statsmodels\\tsa\\base\\tsa_model.py:473: ValueWarning: A date index has been provided, but it has no associated frequency information and so will be ignored when e.g. forecasting.\n",
      "  self._init_dates(dates, freq)\n",
      "c:\\Users\\hoanganh\\Desktop\\twitter-bitcoin\\.venv\\lib\\site-packages\\statsmodels\\tsa\\base\\tsa_model.py:473: ValueWarning: A date index has been provided, but it has no associated frequency information and so will be ignored when e.g. forecasting.\n",
      "  self._init_dates(dates, freq)\n",
      "c:\\Users\\hoanganh\\Desktop\\twitter-bitcoin\\.venv\\lib\\site-packages\\statsmodels\\tsa\\base\\tsa_model.py:473: ValueWarning: A date index has been provided, but it has no associated frequency information and so will be ignored when e.g. forecasting.\n",
      "  self._init_dates(dates, freq)\n",
      "c:\\Users\\hoanganh\\Desktop\\twitter-bitcoin\\.venv\\lib\\site-packages\\statsmodels\\tsa\\base\\tsa_model.py:473: ValueWarning: A date index has been provided, but it has no associated frequency information and so will be ignored when e.g. forecasting.\n",
      "  self._init_dates(dates, freq)\n",
      "c:\\Users\\hoanganh\\Desktop\\twitter-bitcoin\\.venv\\lib\\site-packages\\statsmodels\\tsa\\base\\tsa_model.py:473: ValueWarning: A date index has been provided, but it has no associated frequency information and so will be ignored when e.g. forecasting.\n",
      "  self._init_dates(dates, freq)\n",
      "c:\\Users\\hoanganh\\Desktop\\twitter-bitcoin\\.venv\\lib\\site-packages\\statsmodels\\tsa\\base\\tsa_model.py:473: ValueWarning: A date index has been provided, but it has no associated frequency information and so will be ignored when e.g. forecasting.\n",
      "  self._init_dates(dates, freq)\n",
      "c:\\Users\\hoanganh\\Desktop\\twitter-bitcoin\\.venv\\lib\\site-packages\\statsmodels\\tsa\\base\\tsa_model.py:473: ValueWarning: A date index has been provided, but it has no associated frequency information and so will be ignored when e.g. forecasting.\n",
      "  self._init_dates(dates, freq)\n",
      "c:\\Users\\hoanganh\\Desktop\\twitter-bitcoin\\.venv\\lib\\site-packages\\statsmodels\\tsa\\base\\tsa_model.py:473: ValueWarning: A date index has been provided, but it has no associated frequency information and so will be ignored when e.g. forecasting.\n",
      "  self._init_dates(dates, freq)\n"
     ]
    }
   ],
   "source": [
    "maxlags = 10  # Maximum lag length to test\n",
    "bic_values = []\n",
    "\n",
    "for lag in range(1, maxlags + 1):\n",
    "    model = VAR(subsamples_1[['volume','tweets_per_day']])\n",
    "    results = model.fit(lag)\n",
    "    bic_values.append(results.bic)\n",
    "\n",
    "optimal_lag = np.argmin(bic_values) + 1  # Adding 1 because index starts at 0\n",
    "print(f\"The optimal lag length is {optimal_lag} with a BIC of {min(bic_values)}.\")\n",
    "\n",
    "final_model = VAR(subsamples_1[['volume','tweets_per_day']])\n",
    "final_results = final_model.fit(optimal_lag)\n",
    "print(final_results.summary())"
   ]
  },
  {
   "cell_type": "code",
   "execution_count": 18,
   "metadata": {},
   "outputs": [
    {
     "name": "stdout",
     "output_type": "stream",
     "text": [
      "Granger causality F-test. H_0: tweets_per_day does not Granger-cause volume. Conclusion: reject H_0 at 5% significance level.\n",
      "===============================================\n",
      "Test statistic Critical value p-value     df   \n",
      "-----------------------------------------------\n",
      "         3.476          2.013   0.001 (7, 2468)\n",
      "-----------------------------------------------\n",
      "Granger causality F-test. H_0: volume does not Granger-cause tweets_per_day. Conclusion: reject H_0 at 5% significance level.\n",
      "===============================================\n",
      "Test statistic Critical value p-value     df   \n",
      "-----------------------------------------------\n",
      "         3.525          2.013   0.001 (7, 2468)\n",
      "-----------------------------------------------\n"
     ]
    }
   ],
   "source": [
    "granger_results = final_results.test_causality('volume', 'tweets_per_day', kind='f')\n",
    "print(granger_results.summary())\n",
    "granger_results = final_results.test_causality('tweets_per_day', 'volume', kind='f')\n",
    "print(granger_results.summary())"
   ]
  },
  {
   "cell_type": "markdown",
   "metadata": {},
   "source": [
    "### Tweets & rt"
   ]
  },
  {
   "cell_type": "code",
   "execution_count": 19,
   "metadata": {},
   "outputs": [
    {
     "name": "stdout",
     "output_type": "stream",
     "text": [
      "The optimal lag length is 7 with a BIC of -10.255339456873477.\n",
      "  Summary of Regression Results   \n",
      "==================================\n",
      "Model:                         VAR\n",
      "Method:                        OLS\n",
      "Date:           Wed, 08, May, 2024\n",
      "Time:                     11:50:11\n",
      "--------------------------------------------------------------------\n",
      "No. of Equations:         2.00000    BIC:                   -10.2553\n",
      "Nobs:                     1249.00    HQIC:                  -10.3322\n",
      "Log likelihood:           2966.90    FPE:                3.10921e-05\n",
      "AIC:                     -10.3786    Det(Omega_mle):     3.03585e-05\n",
      "--------------------------------------------------------------------\n",
      "Results for equation rt\n",
      "====================================================================================\n",
      "                       coefficient       std. error           t-stat            prob\n",
      "------------------------------------------------------------------------------------\n",
      "const                    -0.061640         0.033304           -1.851           0.064\n",
      "L1.rt                    -0.028539         0.028445           -1.003           0.316\n",
      "L1.tweets_per_day        -0.012824         0.006133           -2.091           0.037\n",
      "L2.rt                    -0.053734         0.028255           -1.902           0.057\n",
      "L2.tweets_per_day        -0.002219         0.006809           -0.326           0.745\n",
      "L3.rt                     0.038318         0.028202            1.359           0.174\n",
      "L3.tweets_per_day         0.005566         0.006794            0.819           0.413\n",
      "L4.rt                    -0.030199         0.028238           -1.069           0.285\n",
      "L4.tweets_per_day         0.004260         0.006793            0.627           0.531\n",
      "L5.rt                    -0.033307         0.028238           -1.180           0.238\n",
      "L5.tweets_per_day        -0.005201         0.006754           -0.770           0.441\n",
      "L6.rt                     0.045413         0.028024            1.620           0.105\n",
      "L6.tweets_per_day         0.006116         0.006763            0.904           0.366\n",
      "L7.rt                     0.019823         0.027654            0.717           0.473\n",
      "L7.tweets_per_day         0.010567         0.006120            1.727           0.084\n",
      "====================================================================================\n",
      "\n",
      "Results for equation tweets_per_day\n",
      "====================================================================================\n",
      "                       coefficient       std. error           t-stat            prob\n",
      "------------------------------------------------------------------------------------\n",
      "const                     0.343809         0.150157            2.290           0.022\n",
      "L1.rt                    -0.033342         0.128252           -0.260           0.795\n",
      "L1.tweets_per_day         0.470891         0.027654           17.028           0.000\n",
      "L2.rt                    -0.085244         0.127394           -0.669           0.503\n",
      "L2.tweets_per_day         0.038264         0.030702            1.246           0.213\n",
      "L3.rt                     0.201986         0.127155            1.589           0.112\n",
      "L3.tweets_per_day         0.015017         0.030631            0.490           0.624\n",
      "L4.rt                     0.138985         0.127317            1.092           0.275\n",
      "L4.tweets_per_day         0.031899         0.030627            1.042           0.298\n",
      "L5.rt                    -0.037242         0.127315           -0.293           0.770\n",
      "L5.tweets_per_day         0.078528         0.030453            2.579           0.010\n",
      "L6.rt                     0.069037         0.126353            0.546           0.585\n",
      "L6.tweets_per_day         0.092892         0.030493            3.046           0.002\n",
      "L7.rt                     0.120412         0.124686            0.966           0.334\n",
      "L7.tweets_per_day         0.239086         0.027595            8.664           0.000\n",
      "====================================================================================\n",
      "\n",
      "Correlation matrix of residuals\n",
      "                        rt  tweets_per_day\n",
      "rt                1.000000        0.031601\n",
      "tweets_per_day    0.031601        1.000000\n",
      "\n",
      "\n",
      "\n"
     ]
    },
    {
     "name": "stderr",
     "output_type": "stream",
     "text": [
      "c:\\Users\\hoanganh\\Desktop\\twitter-bitcoin\\.venv\\lib\\site-packages\\statsmodels\\tsa\\base\\tsa_model.py:473: ValueWarning: A date index has been provided, but it has no associated frequency information and so will be ignored when e.g. forecasting.\n",
      "  self._init_dates(dates, freq)\n",
      "c:\\Users\\hoanganh\\Desktop\\twitter-bitcoin\\.venv\\lib\\site-packages\\statsmodels\\tsa\\base\\tsa_model.py:473: ValueWarning: A date index has been provided, but it has no associated frequency information and so will be ignored when e.g. forecasting.\n",
      "  self._init_dates(dates, freq)\n",
      "c:\\Users\\hoanganh\\Desktop\\twitter-bitcoin\\.venv\\lib\\site-packages\\statsmodels\\tsa\\base\\tsa_model.py:473: ValueWarning: A date index has been provided, but it has no associated frequency information and so will be ignored when e.g. forecasting.\n",
      "  self._init_dates(dates, freq)\n",
      "c:\\Users\\hoanganh\\Desktop\\twitter-bitcoin\\.venv\\lib\\site-packages\\statsmodels\\tsa\\base\\tsa_model.py:473: ValueWarning: A date index has been provided, but it has no associated frequency information and so will be ignored when e.g. forecasting.\n",
      "  self._init_dates(dates, freq)\n",
      "c:\\Users\\hoanganh\\Desktop\\twitter-bitcoin\\.venv\\lib\\site-packages\\statsmodels\\tsa\\base\\tsa_model.py:473: ValueWarning: A date index has been provided, but it has no associated frequency information and so will be ignored when e.g. forecasting.\n",
      "  self._init_dates(dates, freq)\n",
      "c:\\Users\\hoanganh\\Desktop\\twitter-bitcoin\\.venv\\lib\\site-packages\\statsmodels\\tsa\\base\\tsa_model.py:473: ValueWarning: A date index has been provided, but it has no associated frequency information and so will be ignored when e.g. forecasting.\n",
      "  self._init_dates(dates, freq)\n",
      "c:\\Users\\hoanganh\\Desktop\\twitter-bitcoin\\.venv\\lib\\site-packages\\statsmodels\\tsa\\base\\tsa_model.py:473: ValueWarning: A date index has been provided, but it has no associated frequency information and so will be ignored when e.g. forecasting.\n",
      "  self._init_dates(dates, freq)\n",
      "c:\\Users\\hoanganh\\Desktop\\twitter-bitcoin\\.venv\\lib\\site-packages\\statsmodels\\tsa\\base\\tsa_model.py:473: ValueWarning: A date index has been provided, but it has no associated frequency information and so will be ignored when e.g. forecasting.\n",
      "  self._init_dates(dates, freq)\n",
      "c:\\Users\\hoanganh\\Desktop\\twitter-bitcoin\\.venv\\lib\\site-packages\\statsmodels\\tsa\\base\\tsa_model.py:473: ValueWarning: A date index has been provided, but it has no associated frequency information and so will be ignored when e.g. forecasting.\n",
      "  self._init_dates(dates, freq)\n",
      "c:\\Users\\hoanganh\\Desktop\\twitter-bitcoin\\.venv\\lib\\site-packages\\statsmodels\\tsa\\base\\tsa_model.py:473: ValueWarning: A date index has been provided, but it has no associated frequency information and so will be ignored when e.g. forecasting.\n",
      "  self._init_dates(dates, freq)\n",
      "c:\\Users\\hoanganh\\Desktop\\twitter-bitcoin\\.venv\\lib\\site-packages\\statsmodels\\tsa\\base\\tsa_model.py:473: ValueWarning: A date index has been provided, but it has no associated frequency information and so will be ignored when e.g. forecasting.\n",
      "  self._init_dates(dates, freq)\n"
     ]
    }
   ],
   "source": [
    "maxlags = 10  # Maximum lag length to test\n",
    "bic_values = []\n",
    "\n",
    "for lag in range(1, maxlags + 1):\n",
    "    model = VAR(subsamples_1[['rt','tweets_per_day']])\n",
    "    results = model.fit(lag)\n",
    "    bic_values.append(results.bic)\n",
    "\n",
    "optimal_lag = np.argmin(bic_values) + 1  # Adding 1 because index starts at 0\n",
    "print(f\"The optimal lag length is {optimal_lag} with a BIC of {min(bic_values)}.\")\n",
    "\n",
    "final_model = VAR(subsamples_1[['rt','tweets_per_day']])\n",
    "final_results = final_model.fit(optimal_lag)\n",
    "print(final_results.summary())"
   ]
  },
  {
   "cell_type": "code",
   "execution_count": 20,
   "metadata": {},
   "outputs": [
    {
     "name": "stdout",
     "output_type": "stream",
     "text": [
      "Granger causality F-test. H_0: tweets_per_day does not Granger-cause rt. Conclusion: fail to reject H_0 at 5% significance level.\n",
      "===============================================\n",
      "Test statistic Critical value p-value     df   \n",
      "-----------------------------------------------\n",
      "         1.942          2.013   0.059 (7, 2468)\n",
      "-----------------------------------------------\n",
      "Granger causality F-test. H_0: rt does not Granger-cause tweets_per_day. Conclusion: fail to reject H_0 at 5% significance level.\n",
      "===============================================\n",
      "Test statistic Critical value p-value     df   \n",
      "-----------------------------------------------\n",
      "        0.8389          2.013   0.555 (7, 2468)\n",
      "-----------------------------------------------\n"
     ]
    }
   ],
   "source": [
    "granger_results = final_results.test_causality('rt', 'tweets_per_day', kind='f')\n",
    "print(granger_results.summary())\n",
    "granger_results = final_results.test_causality('tweets_per_day', 'rt', kind='f')\n",
    "print(granger_results.summary())"
   ]
  },
  {
   "cell_type": "markdown",
   "metadata": {},
   "source": [
    "## Subsamples 2 (Table 4)"
   ]
  },
  {
   "cell_type": "markdown",
   "metadata": {},
   "source": [
    "### Tweets & RV"
   ]
  },
  {
   "cell_type": "code",
   "execution_count": 21,
   "metadata": {},
   "outputs": [
    {
     "name": "stdout",
     "output_type": "stream",
     "text": [
      "The optimal lag length is 7 with a BIC of -11.62041637096008.\n",
      "  Summary of Regression Results   \n",
      "==================================\n",
      "Model:                         VAR\n",
      "Method:                        OLS\n",
      "Date:           Wed, 08, May, 2024\n",
      "Time:                     11:50:11\n",
      "--------------------------------------------------------------------\n",
      "No. of Equations:         2.00000    BIC:                   -11.6204\n",
      "Nobs:                     285.000    HQIC:                  -11.8508\n",
      "Log likelihood:           931.902    FPE:                6.11544e-06\n",
      "AIC:                     -12.0049    Det(Omega_mle):     5.51918e-06\n",
      "--------------------------------------------------------------------\n",
      "Results for equation rv\n",
      "====================================================================================\n",
      "                       coefficient       std. error           t-stat            prob\n",
      "------------------------------------------------------------------------------------\n",
      "const                    -0.195338         0.055767           -3.503           0.000\n",
      "L1.rv                     0.430869         0.063361            6.800           0.000\n",
      "L1.tweets_per_day         0.034238         0.010471            3.270           0.001\n",
      "L2.rv                     0.137623         0.068102            2.021           0.043\n",
      "L2.tweets_per_day         0.000747         0.011678            0.064           0.949\n",
      "L3.rv                     0.082722         0.068758            1.203           0.229\n",
      "L3.tweets_per_day        -0.035180         0.011669           -3.015           0.003\n",
      "L4.rv                     0.020201         0.068807            0.294           0.769\n",
      "L4.tweets_per_day         0.016989         0.011658            1.457           0.145\n",
      "L5.rv                    -0.007708         0.068122           -0.113           0.910\n",
      "L5.tweets_per_day        -0.005505         0.011568           -0.476           0.634\n",
      "L6.rv                     0.012056         0.067701            0.178           0.859\n",
      "L6.tweets_per_day         0.006829         0.011492            0.594           0.552\n",
      "L7.rv                    -0.023998         0.061430           -0.391           0.696\n",
      "L7.tweets_per_day         0.001348         0.010636            0.127           0.899\n",
      "====================================================================================\n",
      "\n",
      "Results for equation tweets_per_day\n",
      "====================================================================================\n",
      "                       coefficient       std. error           t-stat            prob\n",
      "------------------------------------------------------------------------------------\n",
      "const                    -0.361076         0.318770           -1.133           0.257\n",
      "L1.rv                     0.882009         0.362176            2.435           0.015\n",
      "L1.tweets_per_day         0.513445         0.059854            8.578           0.000\n",
      "L2.rv                    -0.604576         0.389279           -1.553           0.120\n",
      "L2.tweets_per_day        -0.004726         0.066755           -0.071           0.944\n",
      "L3.rv                    -0.278777         0.393027           -0.709           0.478\n",
      "L3.tweets_per_day        -0.097316         0.066703           -1.459           0.145\n",
      "L4.rv                     0.630019         0.393304            1.602           0.109\n",
      "L4.tweets_per_day         0.145203         0.066639            2.179           0.029\n",
      "L5.rv                    -0.569355         0.389394           -1.462           0.144\n",
      "L5.tweets_per_day        -0.015690         0.066123           -0.237           0.812\n",
      "L6.rv                    -0.368055         0.386987           -0.951           0.342\n",
      "L6.tweets_per_day         0.167993         0.065689            2.557           0.011\n",
      "L7.rv                    -0.371364         0.351136           -1.058           0.290\n",
      "L7.tweets_per_day         0.325967         0.060799            5.361           0.000\n",
      "====================================================================================\n",
      "\n",
      "Correlation matrix of residuals\n",
      "                        rv  tweets_per_day\n",
      "rv                1.000000        0.284787\n",
      "tweets_per_day    0.284787        1.000000\n",
      "\n",
      "\n",
      "\n"
     ]
    },
    {
     "name": "stderr",
     "output_type": "stream",
     "text": [
      "c:\\Users\\hoanganh\\Desktop\\twitter-bitcoin\\.venv\\lib\\site-packages\\statsmodels\\tsa\\base\\tsa_model.py:473: ValueWarning: A date index has been provided, but it has no associated frequency information and so will be ignored when e.g. forecasting.\n",
      "  self._init_dates(dates, freq)\n",
      "c:\\Users\\hoanganh\\Desktop\\twitter-bitcoin\\.venv\\lib\\site-packages\\statsmodels\\tsa\\base\\tsa_model.py:473: ValueWarning: A date index has been provided, but it has no associated frequency information and so will be ignored when e.g. forecasting.\n",
      "  self._init_dates(dates, freq)\n",
      "c:\\Users\\hoanganh\\Desktop\\twitter-bitcoin\\.venv\\lib\\site-packages\\statsmodels\\tsa\\base\\tsa_model.py:473: ValueWarning: A date index has been provided, but it has no associated frequency information and so will be ignored when e.g. forecasting.\n",
      "  self._init_dates(dates, freq)\n",
      "c:\\Users\\hoanganh\\Desktop\\twitter-bitcoin\\.venv\\lib\\site-packages\\statsmodels\\tsa\\base\\tsa_model.py:473: ValueWarning: A date index has been provided, but it has no associated frequency information and so will be ignored when e.g. forecasting.\n",
      "  self._init_dates(dates, freq)\n",
      "c:\\Users\\hoanganh\\Desktop\\twitter-bitcoin\\.venv\\lib\\site-packages\\statsmodels\\tsa\\base\\tsa_model.py:473: ValueWarning: A date index has been provided, but it has no associated frequency information and so will be ignored when e.g. forecasting.\n",
      "  self._init_dates(dates, freq)\n",
      "c:\\Users\\hoanganh\\Desktop\\twitter-bitcoin\\.venv\\lib\\site-packages\\statsmodels\\tsa\\base\\tsa_model.py:473: ValueWarning: A date index has been provided, but it has no associated frequency information and so will be ignored when e.g. forecasting.\n",
      "  self._init_dates(dates, freq)\n",
      "c:\\Users\\hoanganh\\Desktop\\twitter-bitcoin\\.venv\\lib\\site-packages\\statsmodels\\tsa\\base\\tsa_model.py:473: ValueWarning: A date index has been provided, but it has no associated frequency information and so will be ignored when e.g. forecasting.\n",
      "  self._init_dates(dates, freq)\n",
      "c:\\Users\\hoanganh\\Desktop\\twitter-bitcoin\\.venv\\lib\\site-packages\\statsmodels\\tsa\\base\\tsa_model.py:473: ValueWarning: A date index has been provided, but it has no associated frequency information and so will be ignored when e.g. forecasting.\n",
      "  self._init_dates(dates, freq)\n",
      "c:\\Users\\hoanganh\\Desktop\\twitter-bitcoin\\.venv\\lib\\site-packages\\statsmodels\\tsa\\base\\tsa_model.py:473: ValueWarning: A date index has been provided, but it has no associated frequency information and so will be ignored when e.g. forecasting.\n",
      "  self._init_dates(dates, freq)\n",
      "c:\\Users\\hoanganh\\Desktop\\twitter-bitcoin\\.venv\\lib\\site-packages\\statsmodels\\tsa\\base\\tsa_model.py:473: ValueWarning: A date index has been provided, but it has no associated frequency information and so will be ignored when e.g. forecasting.\n",
      "  self._init_dates(dates, freq)\n",
      "c:\\Users\\hoanganh\\Desktop\\twitter-bitcoin\\.venv\\lib\\site-packages\\statsmodels\\tsa\\base\\tsa_model.py:473: ValueWarning: A date index has been provided, but it has no associated frequency information and so will be ignored when e.g. forecasting.\n",
      "  self._init_dates(dates, freq)\n"
     ]
    }
   ],
   "source": [
    "maxlags = 10  # Maximum lag length to test\n",
    "bic_values = []\n",
    "\n",
    "for lag in range(1, maxlags + 1):\n",
    "    model = VAR(subsamples_2[['rv','tweets_per_day']])\n",
    "    results = model.fit(lag)\n",
    "    bic_values.append(results.bic)\n",
    "\n",
    "optimal_lag = np.argmin(bic_values) + 1  # Adding 1 because index starts at 0\n",
    "print(f\"The optimal lag length is {optimal_lag} with a BIC of {min(bic_values)}.\")\n",
    "\n",
    "final_model = VAR(subsamples_2[['rv','tweets_per_day']])\n",
    "final_results = final_model.fit(optimal_lag)\n",
    "print(final_results.summary())"
   ]
  },
  {
   "cell_type": "code",
   "execution_count": 22,
   "metadata": {},
   "outputs": [
    {
     "name": "stdout",
     "output_type": "stream",
     "text": [
      "Granger causality F-test. H_0: tweets_per_day does not Granger-cause rv. Conclusion: reject H_0 at 5% significance level.\n",
      "==============================================\n",
      "Test statistic Critical value p-value    df   \n",
      "----------------------------------------------\n",
      "         5.052          2.027   0.000 (7, 540)\n",
      "----------------------------------------------\n",
      "Granger causality F-test. H_0: rv does not Granger-cause tweets_per_day. Conclusion: reject H_0 at 5% significance level.\n",
      "==============================================\n",
      "Test statistic Critical value p-value    df   \n",
      "----------------------------------------------\n",
      "         2.436          2.027   0.018 (7, 540)\n",
      "----------------------------------------------\n"
     ]
    }
   ],
   "source": [
    "granger_results = final_results.test_causality('rv', 'tweets_per_day', kind='f')\n",
    "print(granger_results.summary())\n",
    "granger_results = final_results.test_causality('tweets_per_day', 'rv', kind='f')\n",
    "print(granger_results.summary())"
   ]
  },
  {
   "cell_type": "markdown",
   "metadata": {},
   "source": [
    "### Tweets & Volume"
   ]
  },
  {
   "cell_type": "code",
   "execution_count": 23,
   "metadata": {},
   "outputs": [
    {
     "name": "stderr",
     "output_type": "stream",
     "text": [
      "c:\\Users\\hoanganh\\Desktop\\twitter-bitcoin\\.venv\\lib\\site-packages\\statsmodels\\tsa\\base\\tsa_model.py:473: ValueWarning: A date index has been provided, but it has no associated frequency information and so will be ignored when e.g. forecasting.\n",
      "  self._init_dates(dates, freq)\n"
     ]
    },
    {
     "name": "stdout",
     "output_type": "stream",
     "text": [
      "The optimal lag length is 2 with a BIC of -5.207858979119607.\n",
      "  Summary of Regression Results   \n",
      "==================================\n",
      "Model:                         VAR\n",
      "Method:                        OLS\n",
      "Date:           Wed, 08, May, 2024\n",
      "Time:                     11:50:12\n",
      "--------------------------------------------------------------------\n",
      "No. of Equations:         2.00000    BIC:                   -5.20786\n",
      "Nobs:                     290.000    HQIC:                  -5.28371\n",
      "Log likelihood:          -39.4954    FPE:                 0.00482280\n",
      "AIC:                     -5.33441    Det(Omega_mle):      0.00466070\n",
      "--------------------------------------------------------------------\n",
      "Results for equation volume\n",
      "====================================================================================\n",
      "                       coefficient       std. error           t-stat            prob\n",
      "------------------------------------------------------------------------------------\n",
      "const                    -0.852112         0.903807           -0.943           0.346\n",
      "L1.volume                 0.302693         0.085038            3.560           0.000\n",
      "L1.tweets_per_day         1.038665         0.242028            4.292           0.000\n",
      "L2.volume                 0.014854         0.085427            0.174           0.862\n",
      "L2.tweets_per_day        -0.383946         0.245508           -1.564           0.118\n",
      "====================================================================================\n",
      "\n",
      "Results for equation tweets_per_day\n",
      "====================================================================================\n",
      "                       coefficient       std. error           t-stat            prob\n",
      "------------------------------------------------------------------------------------\n",
      "const                     0.494588         0.238756            2.072           0.038\n",
      "L1.volume                -0.006928         0.022464           -0.308           0.758\n",
      "L1.tweets_per_day         0.796913         0.063936           12.464           0.000\n",
      "L2.volume                -0.076594         0.022567           -3.394           0.001\n",
      "L2.tweets_per_day         0.228536         0.064855            3.524           0.000\n",
      "====================================================================================\n",
      "\n",
      "Correlation matrix of residuals\n",
      "                    volume  tweets_per_day\n",
      "volume            1.000000        0.365693\n",
      "tweets_per_day    0.365693        1.000000\n",
      "\n",
      "\n",
      "\n"
     ]
    },
    {
     "name": "stderr",
     "output_type": "stream",
     "text": [
      "c:\\Users\\hoanganh\\Desktop\\twitter-bitcoin\\.venv\\lib\\site-packages\\statsmodels\\tsa\\base\\tsa_model.py:473: ValueWarning: A date index has been provided, but it has no associated frequency information and so will be ignored when e.g. forecasting.\n",
      "  self._init_dates(dates, freq)\n",
      "c:\\Users\\hoanganh\\Desktop\\twitter-bitcoin\\.venv\\lib\\site-packages\\statsmodels\\tsa\\base\\tsa_model.py:473: ValueWarning: A date index has been provided, but it has no associated frequency information and so will be ignored when e.g. forecasting.\n",
      "  self._init_dates(dates, freq)\n",
      "c:\\Users\\hoanganh\\Desktop\\twitter-bitcoin\\.venv\\lib\\site-packages\\statsmodels\\tsa\\base\\tsa_model.py:473: ValueWarning: A date index has been provided, but it has no associated frequency information and so will be ignored when e.g. forecasting.\n",
      "  self._init_dates(dates, freq)\n",
      "c:\\Users\\hoanganh\\Desktop\\twitter-bitcoin\\.venv\\lib\\site-packages\\statsmodels\\tsa\\base\\tsa_model.py:473: ValueWarning: A date index has been provided, but it has no associated frequency information and so will be ignored when e.g. forecasting.\n",
      "  self._init_dates(dates, freq)\n",
      "c:\\Users\\hoanganh\\Desktop\\twitter-bitcoin\\.venv\\lib\\site-packages\\statsmodels\\tsa\\base\\tsa_model.py:473: ValueWarning: A date index has been provided, but it has no associated frequency information and so will be ignored when e.g. forecasting.\n",
      "  self._init_dates(dates, freq)\n",
      "c:\\Users\\hoanganh\\Desktop\\twitter-bitcoin\\.venv\\lib\\site-packages\\statsmodels\\tsa\\base\\tsa_model.py:473: ValueWarning: A date index has been provided, but it has no associated frequency information and so will be ignored when e.g. forecasting.\n",
      "  self._init_dates(dates, freq)\n",
      "c:\\Users\\hoanganh\\Desktop\\twitter-bitcoin\\.venv\\lib\\site-packages\\statsmodels\\tsa\\base\\tsa_model.py:473: ValueWarning: A date index has been provided, but it has no associated frequency information and so will be ignored when e.g. forecasting.\n",
      "  self._init_dates(dates, freq)\n",
      "c:\\Users\\hoanganh\\Desktop\\twitter-bitcoin\\.venv\\lib\\site-packages\\statsmodels\\tsa\\base\\tsa_model.py:473: ValueWarning: A date index has been provided, but it has no associated frequency information and so will be ignored when e.g. forecasting.\n",
      "  self._init_dates(dates, freq)\n",
      "c:\\Users\\hoanganh\\Desktop\\twitter-bitcoin\\.venv\\lib\\site-packages\\statsmodels\\tsa\\base\\tsa_model.py:473: ValueWarning: A date index has been provided, but it has no associated frequency information and so will be ignored when e.g. forecasting.\n",
      "  self._init_dates(dates, freq)\n",
      "c:\\Users\\hoanganh\\Desktop\\twitter-bitcoin\\.venv\\lib\\site-packages\\statsmodels\\tsa\\base\\tsa_model.py:473: ValueWarning: A date index has been provided, but it has no associated frequency information and so will be ignored when e.g. forecasting.\n",
      "  self._init_dates(dates, freq)\n"
     ]
    }
   ],
   "source": [
    "maxlags = 10  # Maximum lag length to test\n",
    "bic_values = []\n",
    "\n",
    "for lag in range(1, maxlags + 1):\n",
    "    model = VAR(subsamples_2[['volume','tweets_per_day']])\n",
    "    results = model.fit(lag)\n",
    "    bic_values.append(results.bic)\n",
    "\n",
    "optimal_lag = np.argmin(bic_values) + 1  # Adding 1 because index starts at 0\n",
    "print(f\"The optimal lag length is {optimal_lag} with a BIC of {min(bic_values)}.\")\n",
    "\n",
    "final_model = VAR(subsamples_2[['volume','tweets_per_day']])\n",
    "final_results = final_model.fit(optimal_lag)\n",
    "print(final_results.summary())"
   ]
  },
  {
   "cell_type": "code",
   "execution_count": 24,
   "metadata": {},
   "outputs": [
    {
     "name": "stdout",
     "output_type": "stream",
     "text": [
      "Granger causality F-test. H_0: tweets_per_day does not Granger-cause volume. Conclusion: reject H_0 at 5% significance level.\n",
      "==============================================\n",
      "Test statistic Critical value p-value    df   \n",
      "----------------------------------------------\n",
      "         18.91          3.012   0.000 (2, 570)\n",
      "----------------------------------------------\n",
      "Granger causality F-test. H_0: volume does not Granger-cause tweets_per_day. Conclusion: reject H_0 at 5% significance level.\n",
      "==============================================\n",
      "Test statistic Critical value p-value    df   \n",
      "----------------------------------------------\n",
      "         7.246          3.012   0.001 (2, 570)\n",
      "----------------------------------------------\n"
     ]
    }
   ],
   "source": [
    "granger_results = final_results.test_causality('volume', 'tweets_per_day', kind='f')\n",
    "print(granger_results.summary())\n",
    "granger_results = final_results.test_causality('tweets_per_day', 'volume', kind='f')\n",
    "print(granger_results.summary())"
   ]
  },
  {
   "cell_type": "markdown",
   "metadata": {},
   "source": [
    "### Tweets & rt"
   ]
  },
  {
   "cell_type": "code",
   "execution_count": 25,
   "metadata": {},
   "outputs": [
    {
     "name": "stdout",
     "output_type": "stream",
     "text": [
      "The optimal lag length is 1 with a BIC of -9.768672439890945.\n"
     ]
    },
    {
     "name": "stderr",
     "output_type": "stream",
     "text": [
      "c:\\Users\\hoanganh\\Desktop\\twitter-bitcoin\\.venv\\lib\\site-packages\\statsmodels\\tsa\\base\\tsa_model.py:473: ValueWarning: A date index has been provided, but it has no associated frequency information and so will be ignored when e.g. forecasting.\n",
      "  self._init_dates(dates, freq)\n",
      "c:\\Users\\hoanganh\\Desktop\\twitter-bitcoin\\.venv\\lib\\site-packages\\statsmodels\\tsa\\base\\tsa_model.py:473: ValueWarning: A date index has been provided, but it has no associated frequency information and so will be ignored when e.g. forecasting.\n",
      "  self._init_dates(dates, freq)\n",
      "c:\\Users\\hoanganh\\Desktop\\twitter-bitcoin\\.venv\\lib\\site-packages\\statsmodels\\tsa\\base\\tsa_model.py:473: ValueWarning: A date index has been provided, but it has no associated frequency information and so will be ignored when e.g. forecasting.\n",
      "  self._init_dates(dates, freq)\n",
      "c:\\Users\\hoanganh\\Desktop\\twitter-bitcoin\\.venv\\lib\\site-packages\\statsmodels\\tsa\\base\\tsa_model.py:473: ValueWarning: A date index has been provided, but it has no associated frequency information and so will be ignored when e.g. forecasting.\n",
      "  self._init_dates(dates, freq)\n",
      "c:\\Users\\hoanganh\\Desktop\\twitter-bitcoin\\.venv\\lib\\site-packages\\statsmodels\\tsa\\base\\tsa_model.py:473: ValueWarning: A date index has been provided, but it has no associated frequency information and so will be ignored when e.g. forecasting.\n",
      "  self._init_dates(dates, freq)\n",
      "c:\\Users\\hoanganh\\Desktop\\twitter-bitcoin\\.venv\\lib\\site-packages\\statsmodels\\tsa\\base\\tsa_model.py:473: ValueWarning: A date index has been provided, but it has no associated frequency information and so will be ignored when e.g. forecasting.\n",
      "  self._init_dates(dates, freq)\n",
      "c:\\Users\\hoanganh\\Desktop\\twitter-bitcoin\\.venv\\lib\\site-packages\\statsmodels\\tsa\\base\\tsa_model.py:473: ValueWarning: A date index has been provided, but it has no associated frequency information and so will be ignored when e.g. forecasting.\n",
      "  self._init_dates(dates, freq)\n",
      "c:\\Users\\hoanganh\\Desktop\\twitter-bitcoin\\.venv\\lib\\site-packages\\statsmodels\\tsa\\base\\tsa_model.py:473: ValueWarning: A date index has been provided, but it has no associated frequency information and so will be ignored when e.g. forecasting.\n",
      "  self._init_dates(dates, freq)\n",
      "c:\\Users\\hoanganh\\Desktop\\twitter-bitcoin\\.venv\\lib\\site-packages\\statsmodels\\tsa\\base\\tsa_model.py:473: ValueWarning: A date index has been provided, but it has no associated frequency information and so will be ignored when e.g. forecasting.\n",
      "  self._init_dates(dates, freq)\n",
      "c:\\Users\\hoanganh\\Desktop\\twitter-bitcoin\\.venv\\lib\\site-packages\\statsmodels\\tsa\\base\\tsa_model.py:473: ValueWarning: A date index has been provided, but it has no associated frequency information and so will be ignored when e.g. forecasting.\n",
      "  self._init_dates(dates, freq)\n",
      "c:\\Users\\hoanganh\\Desktop\\twitter-bitcoin\\.venv\\lib\\site-packages\\statsmodels\\tsa\\base\\tsa_model.py:473: ValueWarning: A date index has been provided, but it has no associated frequency information and so will be ignored when e.g. forecasting.\n",
      "  self._init_dates(dates, freq)\n"
     ]
    },
    {
     "name": "stdout",
     "output_type": "stream",
     "text": [
      "  Summary of Regression Results   \n",
      "==================================\n",
      "Model:                         VAR\n",
      "Method:                        OLS\n",
      "Date:           Wed, 08, May, 2024\n",
      "Time:                     11:50:12\n",
      "--------------------------------------------------------------------\n",
      "No. of Equations:         2.00000    BIC:                   -9.76867\n",
      "Nobs:                     291.000    HQIC:                  -9.81407\n",
      "Log likelihood:           612.540    FPE:                5.30429e-05\n",
      "AIC:                     -9.84441    Det(Omega_mle):     5.19659e-05\n",
      "--------------------------------------------------------------------\n",
      "Results for equation rt\n",
      "====================================================================================\n",
      "                       coefficient       std. error           t-stat            prob\n",
      "------------------------------------------------------------------------------------\n",
      "const                    -0.090634         0.084109           -1.078           0.281\n",
      "L1.rt                     0.019556         0.059002            0.331           0.740\n",
      "L1.tweets_per_day         0.008533         0.007662            1.114           0.265\n",
      "====================================================================================\n",
      "\n",
      "Results for equation tweets_per_day\n",
      "====================================================================================\n",
      "                       coefficient       std. error           t-stat            prob\n",
      "------------------------------------------------------------------------------------\n",
      "const                     0.708441         0.238419            2.971           0.003\n",
      "L1.rt                    -0.112513         0.167249           -0.673           0.501\n",
      "L1.tweets_per_day         0.935213         0.021719           43.060           0.000\n",
      "====================================================================================\n",
      "\n",
      "Correlation matrix of residuals\n",
      "                        rt  tweets_per_day\n",
      "rt                1.000000        0.084125\n",
      "tweets_per_day    0.084125        1.000000\n",
      "\n",
      "\n",
      "\n"
     ]
    }
   ],
   "source": [
    "maxlags = 10  # Maximum lag length to test\n",
    "bic_values = []\n",
    "\n",
    "for lag in range(1, maxlags + 1):\n",
    "    model = VAR(subsamples_2[['rt','tweets_per_day']])\n",
    "    results = model.fit(lag)\n",
    "    bic_values.append(results.bic)\n",
    "\n",
    "optimal_lag = np.argmin(bic_values) + 1  # Adding 1 because index starts at 0\n",
    "print(f\"The optimal lag length is {optimal_lag} with a BIC of {min(bic_values)}.\")\n",
    "\n",
    "final_model = VAR(subsamples_2[['rt','tweets_per_day']])\n",
    "final_results = final_model.fit(optimal_lag)\n",
    "print(final_results.summary())"
   ]
  },
  {
   "cell_type": "code",
   "execution_count": 26,
   "metadata": {},
   "outputs": [
    {
     "name": "stdout",
     "output_type": "stream",
     "text": [
      "Granger causality F-test. H_0: tweets_per_day does not Granger-cause rt. Conclusion: fail to reject H_0 at 5% significance level.\n",
      "==============================================\n",
      "Test statistic Critical value p-value    df   \n",
      "----------------------------------------------\n",
      "         1.240          3.858   0.266 (1, 576)\n",
      "----------------------------------------------\n",
      "Granger causality F-test. H_0: rt does not Granger-cause tweets_per_day. Conclusion: fail to reject H_0 at 5% significance level.\n",
      "==============================================\n",
      "Test statistic Critical value p-value    df   \n",
      "----------------------------------------------\n",
      "        0.4526          3.858   0.501 (1, 576)\n",
      "----------------------------------------------\n"
     ]
    }
   ],
   "source": [
    "granger_results = final_results.test_causality('rt', 'tweets_per_day', kind='f')\n",
    "print(granger_results.summary())\n",
    "granger_results = final_results.test_causality('tweets_per_day', 'rt', kind='f')\n",
    "print(granger_results.summary())"
   ]
  }
 ],
 "metadata": {
  "kernelspec": {
   "display_name": ".venv",
   "language": "python",
   "name": "python3"
  },
  "language_info": {
   "codemirror_mode": {
    "name": "ipython",
    "version": 3
   },
   "file_extension": ".py",
   "mimetype": "text/x-python",
   "name": "python",
   "nbconvert_exporter": "python",
   "pygments_lexer": "ipython3",
   "version": "3.9.9"
  }
 },
 "nbformat": 4,
 "nbformat_minor": 2
}
